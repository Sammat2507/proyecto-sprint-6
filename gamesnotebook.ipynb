{
 "cells": [
  {
   "cell_type": "code",
   "execution_count": 86,
   "metadata": {},
   "outputs": [],
   "source": [
    "import pandas as pd\n",
    "from matplotlib import pyplot as plt \n",
    "import numpy as np\n",
    "import math\n",
    "import seaborn as sns\n",
    "from scipy import stats as st"
   ]
  },
  {
   "cell_type": "code",
   "execution_count": 87,
   "metadata": {},
   "outputs": [],
   "source": [
    "games_df = pd.read_csv('games.csv')"
   ]
  },
  {
   "cell_type": "code",
   "execution_count": 88,
   "metadata": {},
   "outputs": [
    {
     "name": "stdout",
     "output_type": "stream",
     "text": [
      "<class 'pandas.core.frame.DataFrame'>\n",
      "RangeIndex: 16715 entries, 0 to 16714\n",
      "Data columns (total 11 columns):\n",
      " #   Column           Non-Null Count  Dtype  \n",
      "---  ------           --------------  -----  \n",
      " 0   name             16713 non-null  object \n",
      " 1   platform         16715 non-null  object \n",
      " 2   year_of_release  16446 non-null  float64\n",
      " 3   genre            16713 non-null  object \n",
      " 4   na_sales         16715 non-null  float64\n",
      " 5   eu_sales         16715 non-null  float64\n",
      " 6   jp_sales         16715 non-null  float64\n",
      " 7   other_sales      16715 non-null  float64\n",
      " 8   critic_score     8137 non-null   float64\n",
      " 9   user_score       10014 non-null  object \n",
      " 10  rating           9949 non-null   object \n",
      "dtypes: float64(6), object(5)\n",
      "memory usage: 1.4+ MB\n",
      "                        name platform  year_of_release         genre  \\\n",
      "0                 Wii Sports      Wii           2006.0        Sports   \n",
      "1          Super Mario Bros.      NES           1985.0      Platform   \n",
      "2             Mario Kart Wii      Wii           2008.0        Racing   \n",
      "3          Wii Sports Resort      Wii           2009.0        Sports   \n",
      "4   Pokemon Red/Pokemon Blue       GB           1996.0  Role-Playing   \n",
      "5                     Tetris       GB           1989.0        Puzzle   \n",
      "6      New Super Mario Bros.       DS           2006.0      Platform   \n",
      "7                   Wii Play      Wii           2006.0          Misc   \n",
      "8  New Super Mario Bros. Wii      Wii           2009.0      Platform   \n",
      "9                  Duck Hunt      NES           1984.0       Shooter   \n",
      "\n",
      "   na_sales  eu_sales  jp_sales  other_sales  critic_score user_score rating  \n",
      "0     41.36     28.96      3.77         8.45          76.0          8      E  \n",
      "1     29.08      3.58      6.81         0.77           NaN        NaN    NaN  \n",
      "2     15.68     12.76      3.79         3.29          82.0        8.3      E  \n",
      "3     15.61     10.93      3.28         2.95          80.0          8      E  \n",
      "4     11.27      8.89     10.22         1.00           NaN        NaN    NaN  \n",
      "5     23.20      2.26      4.22         0.58           NaN        NaN    NaN  \n",
      "6     11.28      9.14      6.50         2.88          89.0        8.5      E  \n",
      "7     13.96      9.18      2.93         2.84          58.0        6.6      E  \n",
      "8     14.44      6.94      4.70         2.24          87.0        8.4      E  \n",
      "9     26.93      0.63      0.28         0.47           NaN        NaN    NaN  \n"
     ]
    }
   ],
   "source": [
    "for column in games_df.columns:\n",
    "        games_df.rename(columns={column: column.strip()}, inplace=True)\n",
    "\n",
    "games_df.columns = games_df.columns.str.lower()\n",
    "games_df.info()\n",
    "print(games_df.head(10))"
   ]
  },
  {
   "cell_type": "code",
   "execution_count": 89,
   "metadata": {},
   "outputs": [
    {
     "name": "stdout",
     "output_type": "stream",
     "text": [
      "name\n",
      "Need for Speed: Most Wanted                         12\n",
      "Madden NFL 07                                        9\n",
      "FIFA 14                                              9\n",
      "Ratatouille                                          9\n",
      "LEGO Marvel Super Heroes                             9\n",
      "                                                    ..\n",
      "Jewels of the Tropical Lost Island                   1\n",
      "Sherlock Holmes and the Mystery of Osborne House     1\n",
      "The King of Fighters '95 (CD)                        1\n",
      "Megamind: Mega Team Unite                            1\n",
      "Haitaka no Psychedelica                              1\n",
      "Name: count, Length: 11560, dtype: int64\n",
      "                              name platform  year_of_release   genre  \\\n",
      "253    Need for Speed: Most Wanted      PS2           2005.0  Racing   \n",
      "523    Need for Speed: Most Wanted      PS3           2012.0  Racing   \n",
      "1190   Need for Speed: Most Wanted     X360           2012.0  Racing   \n",
      "1591   Need for Speed: Most Wanted     X360           2005.0  Racing   \n",
      "1998   Need for Speed: Most Wanted       XB           2005.0  Racing   \n",
      "2048   Need for Speed: Most Wanted      PSV           2012.0  Racing   \n",
      "3581   Need for Speed: Most Wanted       GC           2005.0  Racing   \n",
      "5972   Need for Speed: Most Wanted       PC           2005.0  Racing   \n",
      "6273   Need for Speed: Most Wanted     WiiU           2013.0  Racing   \n",
      "6410   Need for Speed: Most Wanted       DS           2005.0  Racing   \n",
      "6473   Need for Speed: Most Wanted      GBA           2005.0  Racing   \n",
      "11715  Need for Speed: Most Wanted       PC           2012.0  Racing   \n",
      "\n",
      "       na_sales  eu_sales  jp_sales  other_sales  critic_score user_score  \\\n",
      "253        2.03      1.79      0.08         0.47          82.0        9.1   \n",
      "523        0.71      1.46      0.06         0.58           NaN        NaN   \n",
      "1190       0.62      0.78      0.01         0.15          83.0        8.5   \n",
      "1591       1.00      0.13      0.02         0.10          83.0        8.5   \n",
      "1998       0.53      0.46      0.00         0.05          83.0        8.8   \n",
      "2048       0.33      0.45      0.01         0.22           NaN        NaN   \n",
      "3581       0.43      0.11      0.00         0.02          80.0        9.1   \n",
      "5972       0.02      0.23      0.00         0.04          82.0        8.5   \n",
      "6273       0.13      0.12      0.00         0.02           NaN        NaN   \n",
      "6410       0.24      0.01      0.00         0.02          45.0        6.1   \n",
      "6473       0.19      0.07      0.00         0.00           NaN        8.3   \n",
      "11715      0.00      0.06      0.00         0.02          82.0        8.5   \n",
      "\n",
      "      rating  \n",
      "253        T  \n",
      "523      NaN  \n",
      "1190       T  \n",
      "1591       T  \n",
      "1998       T  \n",
      "2048     NaN  \n",
      "3581       T  \n",
      "5972       T  \n",
      "6273     NaN  \n",
      "6410       E  \n",
      "6473       E  \n",
      "11715      T  \n"
     ]
    }
   ],
   "source": [
    "games_df['name'] = games_df['name'].fillna('unknown')\n",
    "print(games_df['name'].value_counts())\n",
    "need_for_speed = games_df[games_df['name'] == 'Need for Speed: Most Wanted']\n",
    "print(need_for_speed)"
   ]
  },
  {
   "cell_type": "markdown",
   "metadata": {},
   "source": [
    "- Rellene los pocos valores ausentes con unknown ya que creo, no podemos adquirir mas informacion al respecto.\n",
    "- Los valores duplicados de la columna name se deben a que son titulos que se publicaron en distintas plataformas en diferentes años."
   ]
  },
  {
   "cell_type": "markdown",
   "metadata": {},
   "source": [
    "- La columna platform no tiene ningun problema."
   ]
  },
  {
   "cell_type": "code",
   "execution_count": 90,
   "metadata": {},
   "outputs": [],
   "source": [
    "games_df['year_of_release'] = games_df['year_of_release'].fillna(games_df['year_of_release'].mean())\n",
    "games_df['year_of_release'] = games_df['year_of_release'].astype(int)"
   ]
  },
  {
   "cell_type": "markdown",
   "metadata": {},
   "source": [
    "- Cambie el tipo de dato a int ya que me parece mas logico que un año sea un entero o un object.\n",
    "- Escogi rellenar los valores ausentes con la media de la columna ya que considero que esta es la opcion que mas probabilidad de ocurrir y no es necesario usar una mediana. "
   ]
  },
  {
   "cell_type": "code",
   "execution_count": 91,
   "metadata": {},
   "outputs": [],
   "source": [
    "games_df['genre'] = games_df['genre'].fillna('unknown')"
   ]
  },
  {
   "cell_type": "markdown",
   "metadata": {},
   "source": [
    "- La columna genre solo tienen dos valores ausentes, estos fueron remplazados por unknown ya que no podemos obtener mas informacion al respecto."
   ]
  },
  {
   "cell_type": "markdown",
   "metadata": {},
   "source": [
    "- Las columnas na_sales, eu_sales, jp_sales y other_sales no tiene nigun problema."
   ]
  },
  {
   "cell_type": "code",
   "execution_count": 92,
   "metadata": {},
   "outputs": [],
   "source": [
    "games_df['critic_score'] = games_df['critic_score'].fillna(games_df['critic_score'].mean())\n",
    "np.array_equal(games_df['critic_score'], games_df['critic_score'].astype(int))\n",
    "games_df['critic_score'] = games_df['critic_score'].astype(int)"
   ]
  },
  {
   "cell_type": "markdown",
   "metadata": {},
   "source": [
    "- Rellene los valores ausentes con mean ya que me parece que es el score que mas probabilidad tiene de ser dado.\n",
    "- Comprobe que todos los valores de la columna fueran enteros para despues concluir que no se perdia ninguna infimacion si convertia la columna a int."
   ]
  },
  {
   "cell_type": "code",
   "execution_count": 93,
   "metadata": {},
   "outputs": [],
   "source": [
    "games_df['user_score'] = games_df['user_score'].fillna(0)\n",
    "games_df['user_score'] = games_df['user_score'].replace('tbd', 0)\n",
    "games_df['user_score'] = games_df['user_score'].astype(float)\n",
    "games_df['user_score'] = games_df['user_score'].fillna(games_df['user_score'].mean())"
   ]
  },
  {
   "cell_type": "markdown",
   "metadata": {},
   "source": [
    "- La columna user_score debe ser un float debido a que sus valores son decimales y puede que en algun momento querramos trabajar con ello como un numero y no como un object(su tipo original)\n",
    "- He decidido remplazar los valores ausentes y los 'tbd' por un 0, ya que coinsidero que es lo unico que se puede hacer para que estos valores no interfieran en el analisis, esto seguira asi al menos hasta que se determine cual es el score verdadero. "
   ]
  },
  {
   "cell_type": "code",
   "execution_count": 94,
   "metadata": {},
   "outputs": [],
   "source": [
    "games_df['rating'] = games_df['rating'].fillna('unknown')"
   ]
  },
  {
   "cell_type": "markdown",
   "metadata": {},
   "source": [
    "- El unico problema de esta columna son los valores ausentes, y coinsidero que la unica forma de solucionarlo es poner otro str que represente que el valor es desconocido."
   ]
  }
 ],
 "metadata": {
  "kernelspec": {
   "display_name": "games_env",
   "language": "python",
   "name": "python3"
  },
  "language_info": {
   "codemirror_mode": {
    "name": "ipython",
    "version": 3
   },
   "file_extension": ".py",
   "mimetype": "text/x-python",
   "name": "python",
   "nbconvert_exporter": "python",
   "pygments_lexer": "ipython3",
   "version": "3.12.2"
  }
 },
 "nbformat": 4,
 "nbformat_minor": 2
}
